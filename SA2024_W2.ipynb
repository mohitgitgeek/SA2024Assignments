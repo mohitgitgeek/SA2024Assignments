{
  "cells": [
    {
      "cell_type": "markdown",
      "metadata": {
        "id": "view-in-github",
        "colab_type": "text"
      },
      "source": [
        "<a href=\"https://colab.research.google.com/github/mohitgitgeek/SA2024Assignments/blob/main/SA2024_W2.ipynb\" target=\"_parent\"><img src=\"https://colab.research.google.com/assets/colab-badge.svg\" alt=\"Open In Colab\"/></a>"
      ]
    },
    {
      "cell_type": "markdown",
      "metadata": {
        "id": "M0YYLw6N_KCE"
      },
      "source": [
        "# Summer Analytics 2024\n",
        "# WEEK-2 Graded Assignment: Linear Regression\n",
        "\n",
        "## Introduction\n",
        "\n",
        "In this exercise, you will implement linear regression and get to see it work on data. Before starting on this programming exercise, we strongly recommend watching the video lectures and completing the review questions for the associated topics.\n",
        "\n",
        "All the information you need for solving this assignment is in this notebook, and all the code you will be implementing will take place within this notebook..\n",
        "\n",
        "Before we begin with the exercises, we need to import all libraries required for this programming exercise. Throughout the course, we will be using [`numpy`](http://www.numpy.org/) for all arrays and matrix operations, and [`matplotlib`](https://matplotlib.org/) for plotting.\n"
      ]
    },
    {
      "cell_type": "code",
      "execution_count": null,
      "metadata": {
        "id": "Rqms0xsm_KCF"
      },
      "outputs": [],
      "source": [
        "# used for manipulating directory paths\n",
        "import os\n",
        "\n",
        "# Scientific and vector computation for python\n",
        "import numpy as np\n",
        "\n",
        "# Plotting library\n",
        "from matplotlib import pyplot\n",
        "from mpl_toolkits.mplot3d import Axes3D  # needed to plot 3-D surfaces\n",
        "\n",
        "# tells matplotlib to embed plots within the notebook\n",
        "%matplotlib inline"
      ]
    },
    {
      "cell_type": "markdown",
      "metadata": {
        "id": "rbzq6tZr_KCJ"
      },
      "source": [
        "Complete the function to return an identity matrix of size 5."
      ]
    },
    {
      "cell_type": "code",
      "execution_count": null,
      "metadata": {
        "id": "8EfxnhE2_KCJ"
      },
      "outputs": [],
      "source": [
        "def warmUpExercise():\n",
        "    \"\"\"\n",
        "    Example function in Python which computes the identity matrix.\n",
        "    Do not hard code kindly use numpy\n",
        "    Returns\n",
        "    -------\n",
        "    A : array_like\n",
        "        The 5x5 identity matrix.\n",
        "\n",
        "    Instructions\n",
        "    ------------\n",
        "    Return the 5x5 identity matrix.\n",
        "    \"\"\"\n",
        "    # ======== YOUR CODE HERE ======\n",
        "    A = np.array([[1,0,0,0,0],[0,1,0,0,0],[0,0,1,0,0],[0,0,0,1,0],[0,0,0,0,1]])\n",
        "    # ==============================\n",
        "    return A"
      ]
    },
    {
      "cell_type": "code",
      "execution_count": null,
      "metadata": {
        "id": "gkqOdcLn_KCM",
        "colab": {
          "base_uri": "https://localhost:8080/"
        },
        "outputId": "caf2d11c-6b9d-43ba-84fe-6172c80f984f"
      },
      "outputs": [
        {
          "output_type": "execute_result",
          "data": {
            "text/plain": [
              "array([[1, 0, 0, 0, 0],\n",
              "       [0, 1, 0, 0, 0],\n",
              "       [0, 0, 1, 0, 0],\n",
              "       [0, 0, 0, 1, 0],\n",
              "       [0, 0, 0, 0, 1]])"
            ]
          },
          "metadata": {},
          "execution_count": 3
        }
      ],
      "source": [
        "warmUpExercise()"
      ]
    },
    {
      "cell_type": "markdown",
      "metadata": {
        "id": "jDl4Msj9_KCM"
      },
      "source": [
        "Your output should match this\n",
        "\n",
        "[array([[ 1.,  0.,  0.,  0.,  0.],<br>\n",
        "       [ 0.,  1.,  0.,  0.,  0.],<br>\n",
        "       [ 0.,  0.,  1.,  0.,  0.],<br>\n",
        "       [ 0.,  0.,  0.,  1.,  0.],<br>\n",
        "       [ 0.,  0.,  0.,  0.,  1.]]))]"
      ]
    },
    {
      "cell_type": "markdown",
      "metadata": {
        "id": "cidgOF0__KCP"
      },
      "source": [
        "## 2 Linear regression with one variable\n",
        "\n",
        "Now you will implement linear regression with one variable to predict profits for a food truck. Suppose you are the CEO of a restaurant franchise and are considering different cities for opening a new outlet. The chain already has trucks in various cities and you have data for profits and populations from the cities. You would like to use this data to help you select which city to expand to next.\n",
        "\n",
        "The file `SA2024_W2_Profit.txt` contains the dataset for our linear regression problem. The first column is the population of a city (in 10,000s) and the second column is the profit of a food truck in that city (in $10,000s). A negative value for profit indicates a loss.\n",
        "\n",
        "We provide you with the code needed to load this data. The dataset is loaded from the data file into the variables `x` and `y`:"
      ]
    },
    {
      "cell_type": "code",
      "execution_count": null,
      "metadata": {
        "id": "lLkbuDrM_KCP",
        "colab": {
          "base_uri": "https://localhost:8080/"
        },
        "outputId": "b4254517-525b-4e66-882c-fc70aca230e0"
      },
      "outputs": [
        {
          "output_type": "stream",
          "name": "stdout",
          "text": [
            "97\n"
          ]
        }
      ],
      "source": [
        "# Read comma separated data\n",
        "data = np.loadtxt(os.path.join('SA2024_W2_Profit.txt'), delimiter=',')\n",
        "X, y = data[:, 0], data[:, 1]\n",
        "\n",
        "m = y.size  # number of training examples\n",
        "print(m)"
      ]
    },
    {
      "cell_type": "markdown",
      "metadata": {
        "id": "06sqjf8D_KCS"
      },
      "source": [
        "### 2.1 Plotting the Data\n",
        "\n",
        "Before starting on any task, it is often useful to understand the data by visualizing it. For this dataset, you can use a scatter plot to visualize the data, since it has only two properties to plot (profit and population). Many other problems that you will encounter in real life are multi-dimensional and cannot be plotted on a 2-d plot. There are many plotting libraries in python (see this [blog post](https://blog.modeanalytics.com/python-data-visualization-libraries/) for a good summary of the most popular ones).\n",
        "\n",
        "In this course, we will be exclusively using `matplotlib` to do all our plotting. `matplotlib` is one of the most popular scientific plotting libraries in python and has extensive tools and functions to make beautiful plots. `pyplot` is a module within `matplotlib` which provides a simplified interface to `matplotlib`'s most common plotting tasks, mimicking MATLAB's plotting interface.\n",
        "\n",
        "<div class=\"alert alert-block alert-warning\">\n",
        "You might have noticed that we have imported the `pyplot` module at the beginning of this exercise using the command `from matplotlib import pyplot`. This is rather uncommon, and if you look at python code elsewhere or in the `matplotlib` tutorials, you will see that the module is named `plt`. This is used by module renaming by using the import command `import matplotlib.pyplot as plt`. We will not using the short name of `pyplot` module in this class exercises, but you should be aware of this deviation from norm.\n",
        "</div>\n",
        "\n",
        "\n",
        "In the following part, your first job is to complete the `plotData` function below. Modify the function and fill in the following code:\n",
        "\n",
        "```python\n",
        "    pyplot.plot(x, y, 'ro', ms=10, mec='k')\n",
        "    pyplot.ylabel('Profit in $10,000')\n",
        "    pyplot.xlabel('Population of City in 10,000s')\n",
        "```"
      ]
    },
    {
      "cell_type": "code",
      "execution_count": null,
      "metadata": {
        "id": "mtBRxxhF_KCS"
      },
      "outputs": [],
      "source": [
        "def plotData(x, y):\n",
        "    \"\"\"\n",
        "    Plots the data points x and y into a new figure. Plots the data\n",
        "    points and gives the figure axes labels of population and profit.\n",
        "\n",
        "    Parameters\n",
        "    ----------\n",
        "    x : array_like\n",
        "        Data point values for x-axis.\n",
        "\n",
        "    y : array_like\n",
        "        Data point values for y-axis. Note x and y should have the same size.\n",
        "\n",
        "    Instructions\n",
        "    ------------\n",
        "    Plot the training data into a figure using the \"figure\" and \"plot\"\n",
        "    functions. Set the axes labels using the \"xlabel\" and \"ylabel\" functions.\n",
        "    Assume the population and revenue data have been passed in as the x\n",
        "    and y arguments of this function.\n",
        "\n",
        "    Hint\n",
        "    ----\n",
        "    You can use the 'ro' option with plot to have the markers\n",
        "    appear as red circles. Furthermore, you can make the markers larger by\n",
        "    using plot(..., 'ro', ms=10), where `ms` refers to marker size. You\n",
        "    can also set the marker edge color using the `mec` property.\n",
        "    \"\"\"\n",
        "    fig = pyplot.figure()  # open a new figure\n",
        "\n",
        "    # ====================== YOUR CODE HERE =======================\n",
        "    pyplot.plot(x,y,'ro',ms=10,mec='k')\n",
        "    pyplot.ylabel('Profit in $10,000')\n",
        "    pyplot.xlabel('Population of City in 10,000s')\n",
        "\n",
        "\n",
        "\n",
        "\n",
        "    # =============================================================\n"
      ]
    },
    {
      "cell_type": "markdown",
      "metadata": {
        "id": "9gBFxSv4_KCV"
      },
      "source": [
        "Now run the defined function with the loaded data to visualize the data.\n",
        "\n",
        "![](Figures/dataset1.png)\n",
        "\n",
        "Execute the next cell to visualize the data."
      ]
    },
    {
      "cell_type": "code",
      "execution_count": null,
      "metadata": {
        "id": "y4HqF5zT_KCV",
        "colab": {
          "base_uri": "https://localhost:8080/",
          "height": 449
        },
        "outputId": "eb340931-d1ca-4997-f611-00205defb89e"
      },
      "outputs": [
        {
          "output_type": "display_data",
          "data": {
            "text/plain": [
              "<Figure size 640x480 with 1 Axes>"
            ],
            "image/png": "[encoded data removed]"
          },
          "metadata": {}
        }
      ],
      "source": [
        "plotData(X, y)"
      ]
    },
    {
      "cell_type": "markdown",
      "metadata": {
        "id": "JNdFstlL_KCa"
      },
      "source": [
        "To quickly learn more about the `matplotlib` plot function and what arguments you can provide to it, you can type `?pyplot.plot` in a cell within the jupyter notebook. This opens a separate page showing the documentation for the requested function. You can also search online for plotting documentation.\n",
        "\n",
        "To set the markers to red circles, we used the option `'or'` within the `plot` function."
      ]
    },
    {
      "cell_type": "code",
      "execution_count": null,
      "metadata": {
        "id": "vNUkRFE-_KCa"
      },
      "outputs": [],
      "source": [
        "# IF NEEDED YOU CAN UNCOMMENT THE BELOW LINE AND RUN TO LEARN MORE ABOUT THE FUNCTION\n",
        "#?pyplot.plot"
      ]
    },
    {
      "cell_type": "markdown",
      "metadata": {
        "id": "kjXBs0ID_KCc"
      },
      "source": [
        "<a id=\"section2\"></a>\n",
        "### 2.2 Gradient Descent\n",
        "\n",
        "In this part, you will fit the linear regression parameters $\\theta$ to our dataset using gradient descent.\n",
        "\n",
        "#### 2.2.1 Update Equations\n",
        "\n",
        "The objective of linear regression is to minimize the cost function\n",
        "\n",
        "$$ J(\\theta) = \\frac{1}{2m} \\sum_{i=1}^m \\left( h_{\\theta}(x^{(i)}) - y^{(i)}\\right)^2$$\n",
        "\n",
        "where the hypothesis $h_\\theta(x)$ is given by the linear model\n",
        "$$ h_\\theta(x) = \\theta^Tx = \\theta_0 + \\theta_1 x_1$$\n",
        "\n",
        "Recall that the parameters of your model are the $\\theta_j$ values. These are\n",
        "the values you will adjust to minimize cost $J(\\theta)$. One way to do this is to\n",
        "use the batch gradient descent algorithm. In batch gradient descent, each\n",
        "iteration performs the update\n",
        "\n",
        "$$ \\theta_j = \\theta_j - \\alpha \\frac{1}{m} \\sum_{i=1}^m \\left( h_\\theta(x^{(i)}) - y^{(i)}\\right)x_j^{(i)} \\qquad \\text{simultaneously update } \\theta_j \\text{ for all } j$$\n",
        "\n",
        "With each step of gradient descent, your parameters $\\theta_j$ come closer to the optimal values that will achieve the lowest cost J($\\theta$).\n",
        "\n",
        "<div class=\"alert alert-block alert-warning\">\n",
        "**Implementation Note:** We store each example as a row in the the $X$ matrix in Python `numpy`. To take into account the intercept term ($\\theta_0$), we add an additional first column to $X$ and set it to all ones. This allows us to treat $\\theta_0$ as simply another 'feature'.\n",
        "</div>\n",
        "\n",
        "\n",
        "#### 2.2.2 Implementation\n",
        "\n",
        "We have already set up the data for linear regression. In the following cell, we add another dimension to our data to accommodate the $\\theta_0$ intercept term. Do NOT execute this cell more than once."
      ]
    },
    {
      "cell_type": "code",
      "execution_count": null,
      "metadata": {
        "id": "p9n9P0wW_KCd"
      },
      "outputs": [],
      "source": [
        "# Add a column of ones to X. The numpy function stack joins arrays along a given axis.\n",
        "# The first axis (axis=0) refers to rows (training examples)\n",
        "# and second axis (axis=1) refers to columns (features).\n",
        "X = np.stack([np.ones(m), X], axis=1)"
      ]
    },
    {
      "cell_type": "markdown",
      "metadata": {
        "id": "4-KOAfJR_KCf"
      },
      "source": [
        "<a id=\"section2\"></a>\n",
        "#### 2.2.3 Computing the cost $J(\\theta)$\n",
        "\n",
        "As you perform gradient descent to learn minimize the cost function $J(\\theta)$, it is helpful to monitor the convergence by computing the cost. In this section, you will implement a function to calculate $J(\\theta)$ so you can check the convergence of your gradient descent implementation.\n",
        "\n",
        "Your next task is to complete the code for the function `computeCost` which computes $J(\\theta)$. As you are doing this, remember that the variables $X$ and $y$ are not scalar values. $X$ is a matrix whose rows represent the examples from the training set and $y$ is a vector whose each elemennt represent the value at a given row of $X$.\n",
        "<a id=\"computeCost\"></a>"
      ]
    },
    {
      "cell_type": "code",
      "execution_count": null,
      "metadata": {
        "id": "0CSB132b_KCf"
      },
      "outputs": [],
      "source": [
        "def computeCost(X, y, theta):\n",
        "    \"\"\"\n",
        "    Compute cost for linear regression. Computes the cost of using theta as the\n",
        "    parameter for linear regression to fit the data points in X and y.\n",
        "\n",
        "    Parameters\n",
        "    ----------\n",
        "    X : array_like\n",
        "        The input dataset of shape (m x n+1), where m is the number of examples,\n",
        "        and n is the number of features. We assume a vector of one's already\n",
        "        appended to the features so we have n+1 columns.\n",
        "\n",
        "    y : array_like\n",
        "        The values of the function at each data point. This is a vector of\n",
        "        shape (m, ).\n",
        "\n",
        "    theta : array_like\n",
        "        The parameters for the regression function. This is a vector of\n",
        "        shape (n+1, ).\n",
        "\n",
        "    Returns\n",
        "    -------\n",
        "    J : float\n",
        "        The value of the regression cost function.\n",
        "\n",
        "    Instructions\n",
        "    ------------\n",
        "    Compute the cost of a particular choice of theta.\n",
        "    You should set J to the cost.\n",
        "    \"\"\"\n",
        "\n",
        "    # initialize some useful values\n",
        "    m = y.size  # number of training examples\n",
        "\n",
        "    # You need to return the following variables correctly\n",
        "    J = 0\n",
        "\n",
        "    # ====================== YOUR CODE HERE =====================\n",
        "    for i in range(m):\n",
        "        h = np.dot(X[i],theta)\n",
        "        J += (h-y[i])**2\n",
        "    J = J/(2*m)\n",
        "\n",
        "    # ===========================================================\n",
        "    return J"
      ]
    },
    {
      "cell_type": "markdown",
      "metadata": {
        "id": "7tVbRXA4_KCi"
      },
      "source": [
        "Once you have completed the function, You can initialize $\\theta$ differently . You will see the cost printed to the screen."
      ]
    },
    {
      "cell_type": "code",
      "execution_count": null,
      "metadata": {
        "id": "E_CwU1Zp_KCi",
        "colab": {
          "base_uri": "https://localhost:8080/"
        },
        "outputId": "81076435-becf-44e7-aaa7-5f14f8dd3d17"
      },
      "outputs": [
        {
          "output_type": "stream",
          "name": "stdout",
          "text": [
            "With theta = [-1,2] \n",
            "Cost computed =60.535\n"
          ]
        }
      ],
      "source": [
        "# YOU CAN CHANGE THE VALUE OF A,B FOR DIFFERENT INITIALIZATIONS OF THETA\n",
        "A = 0.69\n",
        "B = -0.42\n",
        "J = computeCost(X, y, theta=np.array([A, B]))\n",
        "print('With theta = [-1,2] \\nCost computed =%.3f' %J)\n"
      ]
    },
    {
      "cell_type": "markdown",
      "metadata": {
        "id": "4ChnU_FD_KCl"
      },
      "source": [
        "<a id=\"section3\"></a>\n",
        "#### 2.2.4 Gradient descent\n",
        "\n",
        "Next, you will complete a function which implements gradient descent.\n",
        "The loop structure has been written for you, and you only need to supply the updates to $\\theta$ within each iteration.\n",
        "\n",
        "As you program, make sure you understand what you are trying to optimize and what is being updated. Keep in mind that the cost $J(\\theta)$ is parameterized by the vector $\\theta$, not $X$ and $y$. That is, we minimize the value of $J(\\theta)$ by changing the values of the vector $\\theta$, not by changing $X$ or $y$. [Refer to the equations in this notebook](#section2) and to the video lectures if you are uncertain. A good way to verify that gradient descent is working correctly is to look at the value of $J(\\theta)$ and check that it is decreasing with each step.\n",
        "\n",
        "The starter code for the function `gradientDescent` calls `computeCost` on every iteration and saves the cost to a `python` list. Assuming you have implemented gradient descent and `computeCost` correctly, your value of $J(\\theta)$ should never increase, and should converge to a steady value by the end of the algorithm.\n",
        "\n",
        "<div class=\"alert alert-box alert-warning\">\n",
        "**Vectors and matrices in `numpy`** - Important implementation notes\n",
        "\n",
        "A vector in `numpy` is a one dimensional array, for example `np.array([1, 2, 3])` is a vector. A matrix in `numpy` is a two dimensional array, for example `np.array([[1, 2, 3], [4, 5, 6]])`. However, the following is still considered a matrix `np.array([[1, 2, 3]])` since it has two dimensions, even if it has a shape of 1x3 (which looks like a vector).\n",
        "\n",
        "Given the above, the function `np.dot` which we will use for all matrix/vector multiplication has the following properties:\n",
        "- It always performs inner products on vectors. If `x=np.array([1, 2, 3])`, then `np.dot(x, x)` is a scalar.\n",
        "- For matrix-vector multiplication, so if $X$ is a $m\\times n$ matrix and $y$ is a vector of length $m$, then the operation `np.dot(y, X)` considers $y$ as a $1 \\times m$ vector. On the other hand, if $y$ is a vector of length $n$, then the operation `np.dot(X, y)` considers $y$ as a $n \\times 1$ vector.\n",
        "- A vector can be promoted to a matrix using `y[None]` or `[y[np.newaxis]`. That is, if `y = np.array([1, 2, 3])` is a vector of size 3, then `y[None, :]` is a matrix of shape $1 \\times 3$. We can use `y[:, None]` to obtain a shape of $3 \\times 1$.\n",
        "<div>\n",
        "<a id=\"gradientDescent\"></a>"
      ]
    },
    {
      "cell_type": "code",
      "source": [
        "def gradientDescent(X, y, theta, alpha, num_iters):\n",
        "    \"\"\"\n",
        "    Performs gradient descent to learn `theta`. Updates theta by taking `num_iters`\n",
        "    gradient steps with learning rate `alpha`.\n",
        "\n",
        "    Parameters\n",
        "    ----------\n",
        "    X : array_like\n",
        "        The input dataset of shape (m x n+1).\n",
        "\n",
        "    y : arra_like\n",
        "        Value at given features. A vector of shape (m, ).\n",
        "\n",
        "    theta : array_like\n",
        "        Initial values for the linear regression parameters.\n",
        "        A vector of shape (n+1, ).\n",
        "\n",
        "    alpha : float\n",
        "        The learning rate.\n",
        "\n",
        "    num_iters : int\n",
        "        The number of iterations for gradient descent.\n",
        "\n",
        "    Returns\n",
        "    -------\n",
        "    theta : array_like\n",
        "        The learned linear regression parameters. A vector of shape (n+1, ).\n",
        "\n",
        "    J_history : list\n",
        "        A python list for the values of the cost function after each iteration.\n",
        "\n",
        "    Instructions\n",
        "    ------------\n",
        "    Peform a single gradient step on the parameter vector theta.\n",
        "\n",
        "    While debugging, it can be useful to print out the values of\n",
        "    the cost function (computeCost) and gradient here.\n",
        "    \"\"\"\n",
        "    # Initialize some useful values\n",
        "    m = y.shape[0]  # number of training examples\n",
        "\n",
        "    # make a copy of theta, to avoid changing the original array, since numpy arrays\n",
        "    # are passed by reference to functions\n",
        "    theta = theta.copy()\n",
        "\n",
        "    J_history = [] # Use a python list to save cost in every iteration\n",
        "\n",
        "    for i in range(num_iters):\n",
        "        # Compute the gradient\n",
        "        gradient = np.dot(X.T, (np.dot(X, theta) - y)) / m\n",
        "\n",
        "        # Update theta\n",
        "        theta -= alpha * gradient\n",
        "\n",
        "        # save the cost J in every iteration\n",
        "        J_history.append(computeCost(X, y, theta))\n",
        "\n",
        "    return theta, J_history"
      ],
      "metadata": {
        "id": "dkOBCfN8fLuR"
      },
      "execution_count": null,
      "outputs": []
    },
    {
      "cell_type": "markdown",
      "metadata": {
        "id": "VcqHtO8L_KCn"
      },
      "source": [
        "After you are finished call the implemented `gradientDescent` function and print the computed $\\theta$. We initialize the $\\theta$ parameters to 0 and the learning rate $\\alpha$ to 0.01. Execute the following cell to check your code."
      ]
    },
    {
      "cell_type": "code",
      "execution_count": null,
      "metadata": {
        "id": "NfzadPye_KCo",
        "colab": {
          "base_uri": "https://localhost:8080/"
        },
        "outputId": "9f969baa-3eda-4498-8066-080e91c61a59"
      },
      "outputs": [
        {
          "output_type": "stream",
          "name": "stdout",
          "text": [
            "Theta found by gradient descent: 0.0450, 0.7971\n"
          ]
        }
      ],
      "source": [
        "# initialize fitting parameters\n",
        "# FEEL FREE TO CHANGE ANY PARAMETER\n",
        "A = 1.0\n",
        "B = -2.0\n",
        "theta = np.array([A,B])\n",
        "\n",
        "# some gradient descent settings\n",
        "iterations = 1500\n",
        "alpha = 0.001\n",
        "\n",
        "theta, J_history = gradientDescent(X ,y, theta, alpha, iterations)\n",
        "print('Theta found by gradient descent: {:.4f}, {:.4f}'.format(*theta))"
      ]
    },
    {
      "cell_type": "code",
      "execution_count": null,
      "metadata": {
        "id": "CDGtpQA4_KCq",
        "colab": {
          "base_uri": "https://localhost:8080/",
          "height": 449
        },
        "outputId": "b519e0a1-b2be-44ca-f993-ba11bc181648"
      },
      "outputs": [
        {
          "output_type": "display_data",
          "data": {
            "text/plain": [
              "<Figure size 640x480 with 1 Axes>"
            ],
            "image/png": "[encoded data removed]"
          },
          "metadata": {}
        }
      ],
      "source": [
        "# plot the linear fit\n",
        "plotData(X[:, 1], y)\n",
        "pyplot.plot(X[:, 1], np.dot(X, theta), '-')\n",
        "pyplot.legend(['Training data', 'Linear regression']);"
      ]
    },
    {
      "cell_type": "markdown",
      "metadata": {
        "id": "U9shyrD8_KCq"
      },
      "source": [
        "<h5>We will use your final parameters to plot the linear fit. The results should look like the following figure.</h5>\n",
        "<img src=\"https://i.ibb.co/FY8L2mn/graph-w3.png\">"
      ]
    },
    {
      "cell_type": "markdown",
      "metadata": {
        "id": "JmrCXl34_KCs"
      },
      "source": [
        "Your final values for $\\theta$ will also be used to make predictions on profits in areas of 35,000 and 70,000 people.\n",
        "\n",
        "<div class=\"alert alert-block alert-success\">\n",
        "Note the way that the following lines use matrix multiplication, rather than explicit summation or looping, to calculate the predictions. This is an example of code vectorization in `numpy`.\n",
        "</div>\n",
        "\n",
        "<div class=\"alert alert-block alert-success\">\n",
        "Note that the first argument to the `numpy` function `dot` is a python list. `numpy` can internally converts **valid** python lists to numpy arrays when explicitly provided as arguments to `numpy` functions.\n",
        "</div>\n"
      ]
    },
    {
      "cell_type": "code",
      "execution_count": null,
      "metadata": {
        "id": "jcMSJyvI_KCs",
        "colab": {
          "base_uri": "https://localhost:8080/"
        },
        "outputId": "958f5156-6389-4d32-d1cb-7805a5f2d171"
      },
      "outputs": [
        {
          "output_type": "stream",
          "name": "stdout",
          "text": [
            "For population = 80000\n",
            "we predict a profit of 63771.11\n",
            "\n"
          ]
        }
      ],
      "source": [
        "# Now you can predict values for various population sizes.\n",
        "population_size = 80000\n",
        "\n",
        "predict1 = np.dot([1, population_size], theta)\n",
        "print('For population = ' + str(population_size))\n",
        "print('we predict a profit of {:.2f}\\n'.format(predict1))"
      ]
    },
    {
      "cell_type": "code",
      "execution_count": null,
      "metadata": {
        "id": "ry_f-5rxDRoE",
        "colab": {
          "base_uri": "https://localhost:8080/"
        },
        "outputId": "dbed20ab-d4af-465c-c5d0-7236594c06d9"
      },
      "outputs": [
        {
          "output_type": "stream",
          "name": "stdout",
          "text": [
            "For population = 7\n",
            "we predict a profit of 455.00\n",
            "\n"
          ]
        }
      ],
      "source": [
        "# Now you can predict values for various population sizes.\n",
        "population_size = 7\n",
        "\n",
        "predict1 = np.dot([1, population_size], theta)\n",
        "print('For population = ' + str(population_size))\n",
        "print('we predict a profit of {:.2f}\\n'.format(predict1))"
      ]
    }
  ],
  "metadata": {
    "colab": {
      "provenance": [],
      "include_colab_link": true
    },
    "kernelspec": {
      "display_name": "Python 3",
      "language": "python",
      "name": "python3"
    },
    "language_info": {
      "codemirror_mode": {
        "name": "ipython",
        "version": 3
      },
      "file_extension": ".py",
      "mimetype": "text/x-python",
      "name": "python",
      "nbconvert_exporter": "python",
      "pygments_lexer": "ipython3",
      "version": "3.7.6"
    }
  },
  "nbformat": 4,
  "nbformat_minor": 0
}